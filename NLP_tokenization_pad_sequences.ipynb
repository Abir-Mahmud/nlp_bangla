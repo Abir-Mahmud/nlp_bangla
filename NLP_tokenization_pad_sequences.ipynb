{
  "nbformat": 4,
  "nbformat_minor": 0,
  "metadata": {
    "colab": {
      "name": "NLP_tokenization_pad_sequences.ipynb",
      "provenance": [],
      "authorship_tag": "ABX9TyPCJ4wzdKczo9EtL9I4ACzU",
      "include_colab_link": true
    },
    "kernelspec": {
      "name": "python3",
      "display_name": "Python 3"
    }
  },
  "cells": [
    {
      "cell_type": "markdown",
      "metadata": {
        "id": "view-in-github",
        "colab_type": "text"
      },
      "source": [
        "<a href=\"https://colab.research.google.com/github/raqueeb/nlp_bangla/blob/master/NLP_tokenization_pad_sequences.ipynb\" target=\"_parent\"><img src=\"https://colab.research.google.com/assets/colab-badge.svg\" alt=\"Open In Colab\"/></a>"
      ]
    },
    {
      "cell_type": "markdown",
      "metadata": {
        "id": "ldIWtofK4zF1",
        "colab_type": "text"
      },
      "source": [
        "## সহজ বাংলায় 'বাংলা' ন্যাচারাল ল্যাঙ্গুয়েজ প্রসেসিং (এনএলপি) - ২"
      ]
    },
    {
      "cell_type": "code",
      "metadata": {
        "id": "ZHl0zGUi2rd1",
        "colab_type": "code",
        "colab": {}
      },
      "source": [
        "from tensorflow.keras.preprocessing.text import Tokenizer\n",
        "from tensorflow.keras.preprocessing.sequence import pad_sequences\n",
        "\n",
        "train_data = [\n",
        "  \"আচ্ছা, ডেটা কিভাবে কথা বলে?\",\n",
        "  \"পড়ছিলাম হান্স রোসলিং এর একটা বই, ফ্যাক্টফুলনেস।\",\n",
        "  \"ধারণা থেকে নয়, বরং ডেটাকে কথা বলতে দিলে আমাদের সব বিপদ কাটবে।\",\n",
        "  \"এই লোক পৃথিবীকে দেখিয়েছিলেন কিভাবে ২০০ বছরের ডেটা আমাদের বাঁচার সময় বাড়িয়েছে।\"\n",
        "]\n",
        "\n",
        "test_data = [\n",
        "  \"এই অ্যানিমেশন আমরা করবো আমাদের পিসিতে।\",\n",
        "  \"সরাসরি চালান নিচের লিংক থেকে, হচ্ছে তো?\",\n",
        "  \"পাল্টান প্যারামিটার, চালান নিজের মতো করে।\"\n",
        "]"
      ],
      "execution_count": 0,
      "outputs": []
    },
    {
      "cell_type": "code",
      "metadata": {
        "id": "s-tgVqK23sVt",
        "colab_type": "code",
        "colab": {}
      },
      "source": [
        "num_words = 1000\n",
        "oov_token = '<UNK>'\n",
        "pad_type = 'post'\n",
        "trunc_type = 'post'"
      ],
      "execution_count": 0,
      "outputs": []
    },
    {
      "cell_type": "code",
      "metadata": {
        "id": "hTGi2Xmg30l9",
        "colab_type": "code",
        "colab": {}
      },
      "source": [
        "# Tokenize our training data\n",
        "tokenizer = Tokenizer(num_words=num_words, oov_token=oov_token)\n",
        "tokenizer.fit_on_texts(train_data)"
      ],
      "execution_count": 0,
      "outputs": []
    },
    {
      "cell_type": "code",
      "metadata": {
        "id": "rJgeoGTq32ob",
        "colab_type": "code",
        "colab": {}
      },
      "source": [
        "# Get our training data word index\n",
        "word_index = tokenizer.word_index"
      ],
      "execution_count": 0,
      "outputs": []
    },
    {
      "cell_type": "code",
      "metadata": {
        "id": "3jCRsIQA35md",
        "colab_type": "code",
        "colab": {}
      },
      "source": [
        "# Encode training data sentences into sequences\n",
        "train_sequences = tokenizer.texts_to_sequences(train_data)"
      ],
      "execution_count": 0,
      "outputs": []
    },
    {
      "cell_type": "code",
      "metadata": {
        "id": "5fAAR2P339QF",
        "colab_type": "code",
        "colab": {}
      },
      "source": [
        "# Get max training sequence length\n",
        "maxlen = max([len(x) for x in train_sequences])"
      ],
      "execution_count": 0,
      "outputs": []
    },
    {
      "cell_type": "code",
      "metadata": {
        "id": "C67PWt7R4JxY",
        "colab_type": "code",
        "colab": {}
      },
      "source": [
        "# Pad the training sequences\n",
        "train_padded = pad_sequences(train_sequences, padding=pad_type, truncating=trunc_type, maxlen=maxlen)"
      ],
      "execution_count": 0,
      "outputs": []
    },
    {
      "cell_type": "code",
      "metadata": {
        "id": "tanuN9ag4KF5",
        "colab_type": "code",
        "colab": {
          "base_uri": "https://localhost:8080/",
          "height": 289
        },
        "outputId": "c11e0cb9-b993-4dda-a515-25b46614ccfd"
      },
      "source": [
        "# Output the results of our work\n",
        "print(\"Word index:\\n\", word_index)\n",
        "print(\"\\nTraining sequences:\\n\", train_sequences)\n",
        "print(\"\\nPadded training sequences:\\n\", train_padded)\n",
        "print(\"\\nPadded training shape:\", train_padded.shape)\n",
        "print(\"Training sequences data type:\", type(train_sequences))\n",
        "print(\"Padded Training sequences data type:\", type(train_padded))"
      ],
      "execution_count": 8,
      "outputs": [
        {
          "output_type": "stream",
          "text": [
            "Word index:\n",
            " {'<UNK>': 1, 'ডেটা': 2, 'কিভাবে': 3, 'কথা': 4, 'আমাদের': 5, 'আচ্ছা': 6, 'বলে': 7, 'পড়ছিলাম': 8, 'হান্স': 9, 'রোসলিং': 10, 'এর': 11, 'একটা': 12, 'বই': 13, 'ফ্যাক্টফুলনেস।': 14, 'ধারণা': 15, 'থেকে': 16, 'নয়': 17, 'বরং': 18, 'ডেটাকে': 19, 'বলতে': 20, 'দিলে': 21, 'সব': 22, 'বিপদ': 23, 'কাটবে।': 24, 'এই': 25, 'লোক': 26, 'পৃথিবীকে': 27, 'দেখিয়েছিলেন': 28, '২০০': 29, 'বছরের': 30, 'বাঁচার': 31, 'সময়': 32, 'বাড়িয়েছে।': 33}\n",
            "\n",
            "Training sequences:\n",
            " [[6, 2, 3, 4, 7], [8, 9, 10, 11, 12, 13, 14], [15, 16, 17, 18, 19, 4, 20, 21, 5, 22, 23, 24], [25, 26, 27, 28, 3, 29, 30, 2, 5, 31, 32, 33]]\n",
            "\n",
            "Padded training sequences:\n",
            " [[ 6  2  3  4  7  0  0  0  0  0  0  0]\n",
            " [ 8  9 10 11 12 13 14  0  0  0  0  0]\n",
            " [15 16 17 18 19  4 20 21  5 22 23 24]\n",
            " [25 26 27 28  3 29 30  2  5 31 32 33]]\n",
            "\n",
            "Padded training shape: (4, 12)\n",
            "Training sequences data type: <class 'list'>\n",
            "Padded Training sequences data type: <class 'numpy.ndarray'>\n"
          ],
          "name": "stdout"
        }
      ]
    },
    {
      "cell_type": "code",
      "metadata": {
        "id": "_BM2AVZ44KJT",
        "colab_type": "code",
        "colab": {
          "base_uri": "https://localhost:8080/",
          "height": 168
        },
        "outputId": "59b068be-3e33-4037-ad74-026240fcb6f7"
      },
      "source": [
        "test_sequences = tokenizer.texts_to_sequences(test_data)\n",
        "test_padded = pad_sequences(test_sequences, padding=pad_type, truncating=trunc_type, maxlen=maxlen)\n",
        "\n",
        "print(\"Testing sequences:\\n\", test_sequences)\n",
        "print(\"\\nPadded testing sequences:\\n\", test_padded)\n",
        "print(\"\\nPadded testing shape:\",test_padded.shape)"
      ],
      "execution_count": 9,
      "outputs": [
        {
          "output_type": "stream",
          "text": [
            "Testing sequences:\n",
            " [[25, 1, 1, 1, 5, 1], [1, 1, 1, 1, 16, 1, 1], [1, 1, 1, 1, 1, 1]]\n",
            "\n",
            "Padded testing sequences:\n",
            " [[25  1  1  1  5  1  0  0  0  0  0  0]\n",
            " [ 1  1  1  1 16  1  1  0  0  0  0  0]\n",
            " [ 1  1  1  1  1  1  0  0  0  0  0  0]]\n",
            "\n",
            "Padded testing shape: (3, 12)\n"
          ],
          "name": "stdout"
        }
      ]
    },
    {
      "cell_type": "code",
      "metadata": {
        "id": "d0PwuWgt4ZvQ",
        "colab_type": "code",
        "colab": {
          "base_uri": "https://localhost:8080/",
          "height": 121
        },
        "outputId": "20c343cb-be39-4b5d-c000-96cc94a8cad2"
      },
      "source": [
        "for x, y in zip(test_data, test_padded):\n",
        "  print('{} -> {}'.format(x, y))\n",
        "\n",
        "print(\"\\nWord index (for reference):\", word_index)"
      ],
      "execution_count": 10,
      "outputs": [
        {
          "output_type": "stream",
          "text": [
            "এই অ্যানিমেশন আমরা করবো আমাদের পিসিতে। -> [25  1  1  1  5  1  0  0  0  0  0  0]\n",
            "সরাসরি চালান নিচের লিংক থেকে, হচ্ছে তো? -> [ 1  1  1  1 16  1  1  0  0  0  0  0]\n",
            "পাল্টান প্যারামিটার, চালান নিজের মতো করে। -> [1 1 1 1 1 1 0 0 0 0 0 0]\n",
            "\n",
            "Word index (for reference): {'<UNK>': 1, 'ডেটা': 2, 'কিভাবে': 3, 'কথা': 4, 'আমাদের': 5, 'আচ্ছা': 6, 'বলে': 7, 'পড়ছিলাম': 8, 'হান্স': 9, 'রোসলিং': 10, 'এর': 11, 'একটা': 12, 'বই': 13, 'ফ্যাক্টফুলনেস।': 14, 'ধারণা': 15, 'থেকে': 16, 'নয়': 17, 'বরং': 18, 'ডেটাকে': 19, 'বলতে': 20, 'দিলে': 21, 'সব': 22, 'বিপদ': 23, 'কাটবে।': 24, 'এই': 25, 'লোক': 26, 'পৃথিবীকে': 27, 'দেখিয়েছিলেন': 28, '২০০': 29, 'বছরের': 30, 'বাঁচার': 31, 'সময়': 32, 'বাড়িয়েছে।': 33}\n"
          ],
          "name": "stdout"
        }
      ]
    }
  ]
}