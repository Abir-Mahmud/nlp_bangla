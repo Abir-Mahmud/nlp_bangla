{
  "nbformat": 4,
  "nbformat_minor": 0,
  "metadata": {
    "colab": {
      "name": "text_sequence.ipynb",
      "provenance": [],
      "collapsed_sections": [],
      "authorship_tag": "ABX9TyO/fR5Fu9pKhww7SixVFzSf",
      "include_colab_link": true
    },
    "kernelspec": {
      "name": "python3",
      "display_name": "Python 3"
    }
  },
  "cells": [
    {
      "cell_type": "markdown",
      "metadata": {
        "id": "view-in-github",
        "colab_type": "text"
      },
      "source": [
        "<a href=\"https://colab.research.google.com/github/raqueeb/nlp_bangla/blob/master/text_sequence.ipynb\" target=\"_parent\"><img src=\"https://colab.research.google.com/assets/colab-badge.svg\" alt=\"Open In Colab\"/></a>"
      ]
    },
    {
      "cell_type": "markdown",
      "metadata": {
        "id": "DyPZfmyDBOyw",
        "colab_type": "text"
      },
      "source": [
        "আমরা গত নোটবুকে একটা বাক্যকে কিভাবে শব্দে টোকেনাইজ করতে হয় সেটা দেখেছিলাম। সেটা আমরা করেছিলাম টেন্সরফ্লো এর কয়েকটি টুল দিয়ে। ![alt text](https://github.com/raqueeb/nlp_bangla/raw/master/assets/seq1.png)\n",
        "\n",
        "ছবি: ওয়ার্ড ইনডেক্স\n",
        "\n",
        "আমাদের বাক্যে যেহেতু আমরা দুটো জিনিস নিয়ে কাজ করেছিলাম,  সেখানে আমরা যদি আলাদা করে নতুন আরেকটা লাইন ঢুকাই তখন কি হতে পারে? ধরা যাক আমরা নতুন একটা বাক্য এখানে যোগ করতে চাচ্ছি “বইমেলা এলে আমরা প্রচুর বই কিনি”। এর আগের উদাহরণে আমরা বাংলা দাড়ি ব্যাপারটা স্টপ ওয়ার্ডে ঢুকেছিলাম তবে এবার আমরা আমরা নতুন করে বলছি না।দেখি এবার আমাদের টোকেনাইজার কি করে? এখানে আমাদের নতুন কর্পাসে যতি চিহ্ন যোগ করলেও টোকেনাইজার আমাদের যতিচিহ্ন ফেলে দিয়েছে। সবচেয়ে মজার কথা হচ্ছে আমাদের নতুন ঘর পাচ্ছে নতুন শব্দ যোগ হয়েছে নতুন সংখ্যা জোড়া ভ্যালু সহ। "
      ]
    },
    {
      "cell_type": "code",
      "metadata": {
        "id": "FBqUseMdA_CQ",
        "colab_type": "code",
        "colab": {}
      },
      "source": [
        "from tensorflow.keras.preprocessing.text import Tokenizer\n",
        "\n",
        "sentences = [\n",
        "    'আমি ভালবাসি বই পড়তে,',\n",
        "    'আমি ভালবাসি বই লিখতে!',\n",
        "    'বইমেলা এলে আমি প্রচুর বই কিনি'\n",
        "        ]\n",
        "\n",
        "tokenizer = Tokenizer(num_words = 10)"
      ],
      "execution_count": 0,
      "outputs": []
    },
    {
      "cell_type": "markdown",
      "metadata": {
        "id": "nYCw5EXgCYj4",
        "colab_type": "text"
      },
      "source": [
        "আগের মতো \"ফিট অন টেক্সট\" করি।"
      ]
    },
    {
      "cell_type": "code",
      "metadata": {
        "id": "TbeZpO4WCeXl",
        "colab_type": "code",
        "outputId": "8ac90fb3-099f-4130-c866-b6aa04234d5e",
        "colab": {
          "base_uri": "https://localhost:8080/",
          "height": 34
        }
      },
      "source": [
        "tokenizer.fit_on_texts(sentences)\n",
        "\n",
        "word_index = tokenizer.word_index\n",
        "print(word_index)"
      ],
      "execution_count": 0,
      "outputs": [
        {
          "output_type": "stream",
          "text": [
            "{'আমি': 1, 'বই': 2, 'ভালবাসি': 3, 'পড়তে': 4, 'লিখতে': 5, 'বইমেলা': 6, 'এলে': 7, 'প্রচুর': 8, 'কিনি': 9}\n"
          ],
          "name": "stdout"
        }
      ]
    },
    {
      "cell_type": "markdown",
      "metadata": {
        "id": "vtUdoaqBG8MJ",
        "colab_type": "text"
      },
      "source": [
        "আমাদের আগের বাক্যে চারটা করে শব্দ ছিল। এখন নতুন একটা বাক্য যোগ করলাম যেখানে ৬টা শব্দ যোগ করা হয়েছে। ইনডেক্সে নতুন বাক্যের ভেতরে ইউনিক শব্দগুলো বাদ দিয়ে বাকি শব্দগুলোকে নতুন করে জোড়া ‘কি-ভ্যালু’ দিয়ে দিয়েছে। এটা একটা নতুন ওয়ার্ড ভ্যালু ইনডেক্স যোগ করল কর্পাসে। দেখতে পাচ্ছেন তো ছবিতে?\n",
        "\n",
        "![alt text](https://raw.githubusercontent.com/raqueeb/nlp_bangla/master/assets/seq2.png)\n",
        "\n",
        "ছবি: নতুন ওয়ার্ড ইনডেক্স তৈরি হয়েছে কর্পাসে\n",
        "\n",
        "এখানে আমরা একটা বাক্যে বিভিন্ন শব্দ দিয়ে যে ডিকশনারি তৈরি করলাম সেটাকে কর্পাস হিসেবে ব্যবহার করছি। এতক্ষণ আমরা যা খেলেছি সেগুলো হচ্ছে শব্দকে এনকোড করা।  এখন আমরা আমাদের বাক্যগুলোকে একটা লিস্টে ভাগ করব যেখানে টেকেনগুলোকে পাশাপাশি দেখা যাবে। \n",
        "\n",
        "এবার আমরা চেষ্টা করব দ্বিতীয় পর্যায়ে যেতে। এখানে আমরা একটা বাক্য থেকে সংখ্যার একটা সিকুয়েন্স তৈরি করব যাতে একটা নিউরাল নেটওয়ার্ক কে ঠিকমতো শেখাতে পারে। এখানে এমন একটা টুল ব্যবহার করব যাতে সে এই প্রসেসে সংখ্যার একটা সিকোয়েন্স তৈরি করতে পারে। আমাদের এই প্যাটার্ন স্পটিং টা খুব মজার।\n"
      ]
    },
    {
      "cell_type": "code",
      "metadata": {
        "id": "UF00HP2MCe0z",
        "colab_type": "code",
        "colab": {}
      },
      "source": [
        ""
      ],
      "execution_count": 0,
      "outputs": []
    }
  ]
}