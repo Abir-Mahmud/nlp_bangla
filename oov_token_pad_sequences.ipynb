{
  "nbformat": 4,
  "nbformat_minor": 0,
  "metadata": {
    "colab": {
      "name": "oov_token_pad_sequences.ipynb",
      "provenance": [],
      "authorship_tag": "ABX9TyNedff6bfwjUQ8BH9Fptuds",
      "include_colab_link": true
    },
    "kernelspec": {
      "name": "python3",
      "display_name": "Python 3"
    }
  },
  "cells": [
    {
      "cell_type": "markdown",
      "metadata": {
        "id": "view-in-github",
        "colab_type": "text"
      },
      "source": [
        "<a href=\"https://colab.research.google.com/github/raqueeb/nlp_bangla/blob/master/oov_token_pad_sequences.ipynb\" target=\"_parent\"><img src=\"https://colab.research.google.com/assets/colab-badge.svg\" alt=\"Open In Colab\"/></a>"
      ]
    },
    {
      "cell_type": "markdown",
      "metadata": {
        "id": "DREcRt_BdtBc",
        "colab_type": "text"
      },
      "source": [
        "## আউট অফ ভোকাবুলারি টোকেন এবং প্যাড সিকোয়েন্স"
      ]
    },
    {
      "cell_type": "code",
      "metadata": {
        "id": "QDPcAzxbdgtG",
        "colab_type": "code",
        "colab": {}
      },
      "source": [
        "from tensorflow.keras.preprocessing.text import Tokenizer\n",
        "\n",
        "sentences = [\n",
        "    'আমি ভালবাসি বই পড়তে,',\n",
        "    'আমি ভালবাসি বই লিখতে!',\n",
        "    'বইমেলা এলে আমি প্রচুর বই কিনি',\n",
        "    'এইবার বইমেলায় আমার সাথে তুমি কি যাবে?'\n",
        "]"
      ],
      "execution_count": 0,
      "outputs": []
    },
    {
      "cell_type": "code",
      "metadata": {
        "id": "WEb_Lszld2sc",
        "colab_type": "code",
        "colab": {}
      },
      "source": [
        "tokenizer = Tokenizer(num_words = 100, oov_token=\"<OOV>\")\n",
        "tokenizer.fit_on_texts(sentences)\n",
        "word_index = tokenizer.word_index\n",
        "\n",
        "sequences = tokenizer.texts_to_sequences(sentences)"
      ],
      "execution_count": 0,
      "outputs": []
    },
    {
      "cell_type": "code",
      "metadata": {
        "id": "wtsapiBOd28Q",
        "colab_type": "code",
        "colab": {
          "base_uri": "https://localhost:8080/",
          "height": 205
        },
        "outputId": "a4d44f7c-2e19-4995-f9b3-ed0ff1088bf9"
      },
      "source": [
        "from tensorflow.keras.preprocessing.sequence import pad_sequences\n",
        "\n",
        "padded = pad_sequences(sequences, maxlen=5)\n",
        "print(\"\\nWord Index = \" , word_index)\n",
        "print(\"\\nSequences = \" , sequences)\n",
        "print(\"\\nPadded Sequences:\")\n",
        "print(padded)"
      ],
      "execution_count": 8,
      "outputs": [
        {
          "output_type": "stream",
          "text": [
            "\n",
            "Word Index =  {'<OOV>': 1, 'আমি': 2, 'বই': 3, 'ভালবাসি': 4, 'পড়তে': 5, 'লিখতে': 6, 'বইমেলা': 7, 'এলে': 8, 'প্রচুর': 9, 'কিনি': 10, 'এইবার': 11, 'বইমেলায়': 12, 'আমার': 13, 'সাথে': 14, 'তুমি': 15, 'কি': 16, 'যাবে': 17}\n",
            "\n",
            "Sequences =  [[2, 4, 3, 5], [2, 4, 3, 6], [7, 8, 2, 9, 3, 10], [11, 12, 13, 14, 15, 16, 17]]\n",
            "\n",
            "Padded Sequences:\n",
            "[[ 0  2  4  3  5]\n",
            " [ 0  2  4  3  6]\n",
            " [ 8  2  9  3 10]\n",
            " [13 14 15 16 17]]\n"
          ],
          "name": "stdout"
        }
      ]
    },
    {
      "cell_type": "code",
      "metadata": {
        "id": "uzdMG3jJfvLL",
        "colab_type": "code",
        "colab": {}
      },
      "source": [
        "# আমরা নতুন কিছু শব্দ ব্যবহার করি যেটা আমাদের টোকেনাইজারকে ফিট করা হয়নি\n",
        "test_data = [\n",
        "    'আমি আসলেই ভালবাসি বই পড়তে',\n",
        "    'বইমেলায় এবার প্রচুর নতুন বই এসেছে!'\n",
        "]"
      ],
      "execution_count": 0,
      "outputs": []
    },
    {
      "cell_type": "code",
      "metadata": {
        "id": "u_t83XX3fzQG",
        "colab_type": "code",
        "colab": {
          "base_uri": "https://localhost:8080/",
          "height": 118
        },
        "outputId": "79d4098c-bc45-4919-b923-34e0e23ad8f8"
      },
      "source": [
        "test_seq = tokenizer.texts_to_sequences(test_data)\n",
        "print(\"\\nটেস্ট সিকোয়েন্স = \", test_seq)\n",
        "\n",
        "padded = pad_sequences(test_seq, maxlen=10)\n",
        "print(\"\\nপ্যাডিং দেয়া টেস্ট সিকোয়েন্স: \")\n",
        "print(padded)"
      ],
      "execution_count": 10,
      "outputs": [
        {
          "output_type": "stream",
          "text": [
            "\n",
            "টেস্ট সিকোয়েন্স =  [[2, 1, 4, 3, 5], [12, 1, 9, 1, 3, 1]]\n",
            "\n",
            "প্যাডিং দেয়া টেস্ট সিকোয়েন্স: \n",
            "[[ 0  0  0  0  0  2  1  4  3  5]\n",
            " [ 0  0  0  0 12  1  9  1  3  1]]\n"
          ],
          "name": "stdout"
        }
      ]
    }
  ]
}